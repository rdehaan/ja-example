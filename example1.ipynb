{
 "cells": [
  {
   "cell_type": "markdown",
   "metadata": {},
   "source": [
    "# Using `jaggpy` to compute outcomes for JA scenarios"
   ]
  },
  {
   "cell_type": "code",
   "execution_count": 1,
   "metadata": {},
   "outputs": [],
   "source": [
    "# import sys\n",
    "# !{sys.executable} -m pip install nnf\n",
    "# !{sys.executable} -m pip install jaggpy"
   ]
  },
  {
   "cell_type": "code",
   "execution_count": 2,
   "metadata": {},
   "outputs": [],
   "source": [
    "from jaggpy import Scenario, ASPSolver, BFSolver"
   ]
  },
  {
   "cell_type": "markdown",
   "metadata": {},
   "source": [
    "Let's load an example JA scenario from the file `scenario1.jagg`. For more details on how `.jagg` files are structured, see the [`jaggpy` documentation](https://github.com/rdehaan/jaggpy/#jagg-file).\n",
    "\n",
    "For the sake of readability, let's print the contents of the file `scenario1.jagg`:"
   ]
  },
  {
   "cell_type": "code",
   "execution_count": 3,
   "metadata": {},
   "outputs": [
    {
     "name": "stdout",
     "output_type": "stream",
     "text": [
      "# This is the running example from the following paper:\n",
      "#\n",
      "# Endriss, Ulle, Ronald de Haan, Jérôme Lang, and Marija Slavkovik.\n",
      "# The Complexity Landscape of Outcome Determination in Judgment Aggregation.\n",
      "# Journal of Artificial Intelligence Research 69 (2020): 687-731.\n",
      "# URL: https://www.jair.org/index.php/jair/article/view/11970/26619\n",
      "#\n",
      "# (see Example 2.1 on page 697)\n",
      "\n",
      "# The following four propositional variables appear\n",
      "x1, x2, x3, x4\n",
      "\n",
      "# There are four issues\n",
      "4\n",
      "# The four issues are identified with these formulas\n",
      "1, x1\n",
      "2, x2\n",
      "3, x3\n",
      "4, x4\n",
      "\n",
      "# The input constraints and the output constraints (they are the same)\n",
      "In, (~x1 | ~x2 | ~x3) & (~x1 | ~x3 | ~x4)\n",
      "Out, (~x1 | ~x2 | ~x3) & (~x1 | ~x3 | ~x4)\n",
      "\n",
      "# We have 11 voters with 4 different judgment sets\n",
      "11, 4\n",
      "# List the judgment sets together with how often they occur in the profile\n",
      "3, 2;3;4\n",
      "1, 1;2\n",
      "3, 1;2;4\n",
      "4, 1;3\n",
      "\n"
     ]
    }
   ],
   "source": [
    "with open('scenario1.jagg', 'r', encoding='utf-8') as file:\n",
    "    contents = file.read()\n",
    "    print(contents)"
   ]
  },
  {
   "cell_type": "markdown",
   "metadata": {},
   "source": [
    "We can create a `Scenario` object from this file as follows."
   ]
  },
  {
   "cell_type": "code",
   "execution_count": 4,
   "metadata": {},
   "outputs": [],
   "source": [
    "scenario = Scenario()\n",
    "scenario.load_from_file(\"scenario1.jagg\")"
   ]
  },
  {
   "cell_type": "markdown",
   "metadata": {},
   "source": [
    "Next, we create a `Solver` object that allows us to compute outcomes for the JA scenario. Currently two solvers are implemented: a brute force solver and a solver based on ASP (using [clingo](https://potassco.org/clingo/)).\n",
    "\n",
    "## Using the brute force solver\n",
    "\n",
    "Let's start with a brute force solver, and find the Kemeny outcomes:"
   ]
  },
  {
   "cell_type": "code",
   "execution_count": 5,
   "metadata": {},
   "outputs": [
    {
     "name": "stdout",
     "output_type": "stream",
     "text": [
      "Computing outcome with the brute force solver and the Kemeny rule...\n",
      "Outcome: {'x4': True, 'x2': True, 'x3': False, 'x1': True}\n"
     ]
    }
   ],
   "source": [
    "brutus = BFSolver()\n",
    "for outcome in brutus.all_outcomes(scenario, \"kemeny\", verbose=True):\n",
    "    print(f\"Outcome: {outcome}\")"
   ]
  },
  {
   "cell_type": "markdown",
   "metadata": {},
   "source": [
    "The current implementation of the brute force solver supports the Kemeny rule, the Slater rule and the Max-Hamming rule."
   ]
  },
  {
   "cell_type": "code",
   "execution_count": 6,
   "metadata": {},
   "outputs": [
    {
     "name": "stdout",
     "output_type": "stream",
     "text": [
      "Computing outcome with the brute force solver and the MaxHamming rule...\n",
      "Outcome: {'x2': False, 'x3': False, 'x4': False, 'x1': False}\n",
      "Outcome: {'x4': False, 'x2': False, 'x3': True, 'x1': True}\n",
      "Outcome: {'x4': False, 'x2': True, 'x3': False, 'x1': True}\n",
      "Outcome: {'x4': True, 'x2': True, 'x3': False, 'x1': True}\n",
      "Outcome: {'x2': True, 'x3': False, 'x4': False, 'x1': False}\n",
      "Outcome: {'x2': True, 'x3': True, 'x4': False, 'x1': False}\n",
      "Outcome: {'x4': True, 'x2': False, 'x3': False, 'x1': True}\n",
      "Outcome: {'x2': True, 'x3': True, 'x4': True, 'x1': False}\n",
      "Outcome: {'x2': False, 'x3': False, 'x4': True, 'x1': False}\n"
     ]
    }
   ],
   "source": [
    "for outcome in brutus.all_outcomes(scenario, \"maxhamming\", verbose=True):\n",
    "    print(f\"Outcome: {outcome}\")"
   ]
  },
  {
   "cell_type": "markdown",
   "metadata": {},
   "source": [
    "## Using the ASP solver\n",
    "\n",
    "Next, let's use the ASP solver, and find the Slater outcomes:"
   ]
  },
  {
   "cell_type": "code",
   "execution_count": 7,
   "metadata": {},
   "outputs": [
    {
     "name": "stdout",
     "output_type": "stream",
     "text": [
      "Computing outcome with ASP and the Slater rule...\n",
      "Outcome: {'x1': False, 'x2': True, 'x3': True, 'x4': True}\n",
      "Outcome: {'x1': True, 'x2': True, 'x3': False, 'x4': True}\n"
     ]
    }
   ],
   "source": [
    "answerer = ASPSolver()\n",
    "for outcome in answerer.all_outcomes(scenario, \"slater\", verbose=True):\n",
    "    print(f\"Outcome: {outcome}\")"
   ]
  },
  {
   "cell_type": "markdown",
   "metadata": {},
   "source": [
    "The current implementation of the brute force solver supports the Kemeny rule, the Slater rule, the Young rule and the Leximax rule.\n",
    "\n",
    "For the sake of fun, let's use the ASP solver to find the Leximax outcomes."
   ]
  },
  {
   "cell_type": "code",
   "execution_count": 8,
   "metadata": {},
   "outputs": [
    {
     "name": "stdout",
     "output_type": "stream",
     "text": [
      "Computing outcome with ASP and the Leximax rule...\n",
      "Outcome: {'x1': True, 'x2': True, 'x3': False, 'x4': True}\n"
     ]
    }
   ],
   "source": [
    "for outcome in answerer.all_outcomes(scenario, \"leximax\", verbose=True):\n",
    "    print(f\"Outcome: {outcome}\")"
   ]
  }
 ],
 "metadata": {
  "kernelspec": {
   "display_name": "Python 3",
   "language": "python",
   "name": "python3"
  },
  "language_info": {
   "codemirror_mode": {
    "name": "ipython",
    "version": 3
   },
   "file_extension": ".py",
   "mimetype": "text/x-python",
   "name": "python",
   "nbconvert_exporter": "python",
   "pygments_lexer": "ipython3",
   "version": "3.7.7"
  }
 },
 "nbformat": 4,
 "nbformat_minor": 4
}
